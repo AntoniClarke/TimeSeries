{
  "nbformat": 4,
  "nbformat_minor": 0,
  "metadata": {
    "colab": {
      "provenance": [],
      "authorship_tag": "ABX9TyMRr7GgAuCYYDvt/45Ug2GN",
      "include_colab_link": true
    },
    "kernelspec": {
      "name": "python3",
      "display_name": "Python 3"
    },
    "language_info": {
      "name": "python"
    }
  },
  "cells": [
    {
      "cell_type": "markdown",
      "metadata": {
        "id": "view-in-github",
        "colab_type": "text"
      },
      "source": [
        "<a href=\"https://colab.research.google.com/github/AntoniClarke/TimeSeries/blob/master/ImagenesAutoMercado.ipynb\" target=\"_parent\"><img src=\"https://colab.research.google.com/assets/colab-badge.svg\" alt=\"Open In Colab\"/></a>"
      ]
    },
    {
      "cell_type": "code",
      "execution_count": null,
      "metadata": {
        "id": "7Y9544jvG3s0"
      },
      "outputs": [],
      "source": [
        "pip install selenium"
      ]
    },
    {
      "cell_type": "code",
      "source": [],
      "metadata": {
        "id": "yiSPzg_DHEPn"
      },
      "execution_count": null,
      "outputs": []
    },
    {
      "cell_type": "code",
      "source": [
        "# Importar librerías necesarias\n",
        "from selenium import webdriver\n",
        "from selenium.webdriver.chrome.service import Service\n",
        "from selenium.webdriver.common.by import By\n",
        "from selenium.webdriver.chrome.options import Options\n",
        "import time\n",
        "import os\n",
        "\n",
        "# Paso 1: Instalar Chrome y Chromedriver (solo la primera vez)\n",
        "def install_chrome_and_chromedriver():\n",
        "    print(\"Instalando Chrome y Chromedriver...\")\n",
        "    os.system(\"sudo apt-get update\")\n",
        "    os.system(\"sudo apt-get install -y wget unzip\")\n",
        "    os.system(\"wget -N https://dl.google.com/linux/direct/google-chrome-stable_current_amd64.deb\")\n",
        "    os.system(\"sudo dpkg -i google-chrome-stable_current_amd64.deb\")\n",
        "    os.system(\"sudo apt-get install -y -f\")\n",
        "    os.system(\"rm google-chrome-stable_current_amd64.deb\")\n",
        "\n",
        "    # Obtener la versión de Chrome instalada\n",
        "    chrome_version = os.popen(\"google-chrome --version\").read().strip().split()[-1]\n",
        "    print(f\"Versión de Chrome instalada: {chrome_version}\")\n",
        "\n",
        "    # Descargar Chromedriver compatible\n",
        "    chromedriver_version = os.popen(f\"curl -s https://chromedriver.storage.googleapis.com/LATEST_RELEASE_{chrome_version}\").read().strip()\n",
        "    print(f\"Descargando Chromedriver versión: {chromedriver_version}\")\n",
        "    os.system(f\"wget -N https://chromedriver.storage.googleapis.com/{chromedriver_version}/chromedriver_linux64.zip\")\n",
        "    os.system(\"unzip chromedriver_linux64.zip\")\n",
        "    os.system(\"chmod +x chromedriver\")\n",
        "    os.system(\"sudo mv -f chromedriver /usr/local/bin/chromedriver\")\n",
        "    os.system(\"rm chromedriver_linux64.zip\")\n",
        "\n",
        "    print(\"Chrome y Chromedriver instalados correctamente.\")\n",
        "\n",
        "\n",
        "# Paso 2: Configurar Selenium y tomar la captura de pantalla\n",
        "def take_screenshot(url, screenshot_path):\n",
        "    # Configurar Chrome en modo headless\n",
        "    chrome_options = Options()\n",
        "    chrome_options.add_argument(\"--headless\")  # Ejecutar en modo headless\n",
        "    chrome_options.add_argument(\"--no-sandbox\")\n",
        "    chrome_options.add_argument(\"--disable-dev-shm-usage\")\n",
        "\n",
        "    # Inicializar el navegador\n",
        "    service = Service('/usr/local/bin/chromedriver')\n",
        "    driver = webdriver.Chrome(service=service, options=chrome_options)\n",
        "\n",
        "    try:\n",
        "        # Navegar a la página web\n",
        "        print(f\"Navegando a: {url}\")\n",
        "        driver.get(url)\n",
        "\n",
        "        # Esperar a que la página cargue\n",
        "        time.sleep(5)\n",
        "\n",
        "        # Tomar un pantallazo\n",
        "        print(f\"Tomando captura de pantalla y guardando en: {screenshot_path}\")\n",
        "        driver.save_screenshot(screenshot_path)\n",
        "\n",
        "        print(\"Captura de pantalla completada.\")\n",
        "    finally:\n",
        "        # Cerrar el navegador\n",
        "        driver.quit()\n",
        "\n",
        "\n",
        "# Paso 3: Ejecutar el script\n",
        "if __name__ == \"__main__\":\n",
        "    # Instalar Chrome y Chromedriver (solo la primera vez)\n",
        "    install_chrome_and_chromedriver()\n",
        "\n",
        "    # URL de la página web\n",
        "    url = \"https://www.ejemplo.com\"\n",
        "\n",
        "    # Ruta donde se guardará la captura de pantalla\n",
        "    screenshot_path = \"/workspace/screenshot.png\"  # Ajusta la ruta según tu entorno\n",
        "\n",
        "    # Tomar la captura de pantalla\n",
        "    take_screenshot(url, screenshot_path)\n",
        "\n",
        "    print(f\"Captura de pantalla guardada en: {screenshot_path}\")"
      ],
      "metadata": {
        "id": "bFm-jSoqG-qe"
      },
      "execution_count": null,
      "outputs": []
    }
  ]
}